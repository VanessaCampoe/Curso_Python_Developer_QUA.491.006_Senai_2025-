{
 "cells": [
  {
   "cell_type": "markdown",
   "id": "c8e784eb",
   "metadata": {},
   "source": [
    "JSON = JavaScript Object Notation\n",
    "consegue rabalhar meio que de forma indepetende do JS , posso criar arquivos com a linguagem extensao de json, tb trB com bnco de dados nao relacionais , acabam trabalhando com arquivspos json \n",
    "python le e manipula os arquivos json \n",
    "criar um arquivo json "
   ]
  }
 ],
 "metadata": {
  "language_info": {
   "name": "python"
  }
 },
 "nbformat": 4,
 "nbformat_minor": 5
}
