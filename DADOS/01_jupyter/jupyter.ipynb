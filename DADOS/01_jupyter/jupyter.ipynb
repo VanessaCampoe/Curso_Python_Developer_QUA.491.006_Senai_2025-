{
 "cells": [
  {
   "cell_type": "code",
   "execution_count": null,
   "id": "372bbd54",
   "metadata": {},
   "outputs": [],
   "source": [
    "Aqui eu posso digitar meu texto normalmente \n"
   ]
  },
  {
   "cell_type": "code",
   "execution_count": null,
   "id": "d49a0030",
   "metadata": {},
   "outputs": [],
   "source": [
    "Nova markdown adicionado embaixo do texto "
   ]
  },
  {
   "cell_type": "code",
   "execution_count": null,
   "id": "8ff919fe",
   "metadata": {},
   "outputs": [],
   "source": [
    "# Titulo do meu texto \n",
    "\n",
    "## Subtítulo\n",
    "### Titulo nivel 3 \n",
    "Aqui eu posso digitar meu texto normalmente. adicionadomais texto \n",
    "Novo markdown adicionado embaixo  embaixo do texto "
   ]
  },
  {
   "cell_type": "markdown",
   "id": "00178d2a",
   "metadata": {},
   "source": [
    "Exemplificar um codigo em Python `print(\"Olá, mundo !\")`"
   ]
  },
  {
   "cell_type": "markdown",
   "id": "0366bbb8",
   "metadata": {},
   "source": [
    "~~~java \n",
    "public class App{\n",
    "    public static void main(String[] args ) throws Excepton {\n",
    "        Systentem.out.println(\" Ola mundo!\");\n",
    "    }\n",
    "}\n",
    "~~~ pode ser 3~~~ ou 3 crase "
   ]
  },
  {
   "cell_type": "code",
   "execution_count": 1,
   "id": "89cce09b",
   "metadata": {},
   "outputs": [
    {
     "name": "stdout",
     "output_type": "stream",
     "text": [
      "OLá, Mundo!\n"
     ]
    }
   ],
   "source": [
    "print(\"OLá, Mundo!\")"
   ]
  },
  {
   "cell_type": "code",
   "execution_count": 2,
   "id": "b7fd78b3",
   "metadata": {},
   "outputs": [],
   "source": [
    "texto = \"Este aqui e um texto! \""
   ]
  },
  {
   "cell_type": "markdown",
   "id": "4a0a7b73",
   "metadata": {},
   "source": [
    "\n",
    "Markdown resprensenta um texto "
   ]
  },
  {
   "cell_type": "code",
   "execution_count": 3,
   "id": "18e68c04",
   "metadata": {},
   "outputs": [
    {
     "name": "stdout",
     "output_type": "stream",
     "text": [
      "Este aqui e um texto! \n"
     ]
    }
   ],
   "source": [
    "print(texto)"
   ]
  },
  {
   "cell_type": "markdown",
   "id": "2ce683d7",
   "metadata": {},
   "source": []
  },
  {
   "cell_type": "markdown",
   "id": "8df5b845",
   "metadata": {},
   "source": []
  },
  {
   "cell_type": "markdown",
   "id": "0acfe55c",
   "metadata": {},
   "source": []
  }
 ],
 "metadata": {
  "kernelspec": {
   "display_name": ".venv",
   "language": "python",
   "name": "python3"
  },
  "language_info": {
   "codemirror_mode": {
    "name": "ipython",
    "version": 3
   },
   "file_extension": ".py",
   "mimetype": "text/x-python",
   "name": "python",
   "nbconvert_exporter": "python",
   "pygments_lexer": "ipython3",
   "version": "3.13.4"
  }
 },
 "nbformat": 4,
 "nbformat_minor": 5
}
