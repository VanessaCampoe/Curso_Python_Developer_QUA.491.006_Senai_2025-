{
 "cells": [
  {
   "cell_type": "markdown",
   "id": "b6313561",
   "metadata": {},
   "source": [
    "hrença multipla \n",
    "criar a "
   ]
  },
  {
   "cell_type": "code",
   "execution_count": null,
   "id": "224f5cef",
   "metadata": {
    "vscode": {
     "languageId": "plaintext"
    }
   },
   "outputs": [],
   "source": [
    "dracula \n",
    "neromancer \n",
    "proibido \n",
    "o estudante "
   ]
  }
 ],
 "metadata": {
  "language_info": {
   "name": "python"
  }
 },
 "nbformat": 4,
 "nbformat_minor": 5
}
